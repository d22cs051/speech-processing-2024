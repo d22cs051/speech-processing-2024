{
 "cells": [
  {
   "cell_type": "code",
   "execution_count": null,
   "metadata": {},
   "outputs": [],
   "source": [
    "import numpy as np\n",
    "import wave\n",
    "from matplotlib import pyplot as plt\n",
    "import os\n",
    "from scipy import signal\n",
    "\n",
    "def read_audio_from_wav(file_path):\n",
    "    with wave.open(file_path, 'rb') as wav_file:\n",
    "        audio_data = wav_file.readframes(-1)\n",
    "        audio = np.frombuffer(audio_data, dtype=np.int16)\n",
    "        audio = audio.astype(np.float32) / np.iinfo(np.int16).max  # Convert to floating-point\n",
    "        sample_rate = wav_file.getframerate()\n",
    "    \n",
    "    return audio, sample_rate\n",
    "\n",
    "\n",
    "def custom_spectrogram(audio, sample_rate, n_fft, hop_length, window, win_length):\n",
    "    # Calculate the number of frames\n",
    "    num_frames = 1 + int((len(audio) - n_fft) / hop_length)\n",
    "    \n",
    "    # Create an empty array to store the spectrogram\n",
    "    spectrogram = np.zeros((n_fft // 2 + 1, num_frames), dtype=np.complex64)\n",
    "    \n",
    "    # Apply the window function\n",
    "    window_func = getattr(np.fft, window)\n",
    "    window = window_func(win_length)\n",
    "    \n",
    "    # Iterate over the frames\n",
    "    for i in range(num_frames):\n",
    "        # Extract the current frame\n",
    "        frame = audio[i * hop_length : i * hop_length + n_fft] * window\n",
    "        \n",
    "        # Compute the Fourier transform of the frame\n",
    "        spectrum = np.fft.rfft(frame, n=n_fft)\n",
    "        \n",
    "        # Store the spectrum in the spectrogram\n",
    "        spectrogram[:, i] = spectrum\n",
    "    \n",
    "    return spectrogram\n",
    "\n",
    "\n",
    "# Usage change the file path to the file you want to use\n",
    "file_path = 'audios/minor_1.wav'\n",
    "audio, sample_rate = read_audio_from_wav(file_path)\n",
    "\n",
    "n_fft_values = [512, 1024, 2048, 4096]\n",
    "hop_length_values = [256, 512, 1024, 2048]\n",
    "window_values = ['hann', 'hamming', 'blackman', 'bartlett']\n",
    "win_length_values = [256, 512, 1024, 2048]\n",
    "\n",
    "\n",
    "# Create the directory if it doesn't exist\n",
    "save_dir = 'plots/original'\n",
    "os.makedirs(save_dir, exist_ok=True)\n",
    "\n",
    "for n_fft in n_fft_values:\n",
    "    for hop_length in hop_length_values:\n",
    "        for window in window_values:\n",
    "            for win_length in win_length_values:\n",
    "                if n_fft < win_length:\n",
    "                    continue\n",
    "                \n",
    "                spectrogram = custom_spectrogram(audio, sample_rate, n_fft, hop_length, window, win_length)\n",
    "                spectrogram_db = 10 * np.log10(np.abs(spectrogram) ** 2)\n",
    "                \n",
    "                # Plot the spectrogram\n",
    "                plt.figure()\n",
    "                plt.imshow(spectrogram_db, aspect='auto', origin='lower')\n",
    "                plt.colorbar(format='%+2.0f dB')\n",
    "                \n",
    "                # Save the plot with parameter values in the filename\n",
    "                filename = f'n_fft_{n_fft}_hop_{hop_length}_window_{window}_win_{win_length}.png'\n",
    "                save_path = os.path.join(save_dir, filename)\n",
    "                plt.savefig(save_path)\n",
    "                \n",
    "                plt.show()"
   ]
  },
  {
   "cell_type": "code",
   "execution_count": 12,
   "metadata": {},
   "outputs": [
    {
     "name": "stdout",
     "output_type": "stream",
     "text": [
      "Collecting gtts\n",
      "  Downloading gTTS-2.5.1-py3-none-any.whl (29 kB)\n",
      "Requirement already satisfied: requests<3,>=2.27 in /home/curie/miniconda3/envs/sdxl_env/lib/python3.11/site-packages (from gtts) (2.31.0)\n",
      "Collecting click<8.2,>=7.1 (from gtts)\n",
      "  Using cached click-8.1.7-py3-none-any.whl (97 kB)\n",
      "Requirement already satisfied: charset-normalizer<4,>=2 in /home/curie/miniconda3/envs/sdxl_env/lib/python3.11/site-packages (from requests<3,>=2.27->gtts) (2.0.4)\n",
      "Requirement already satisfied: idna<4,>=2.5 in /home/curie/miniconda3/envs/sdxl_env/lib/python3.11/site-packages (from requests<3,>=2.27->gtts) (3.4)\n",
      "Requirement already satisfied: urllib3<3,>=1.21.1 in /home/curie/miniconda3/envs/sdxl_env/lib/python3.11/site-packages (from requests<3,>=2.27->gtts) (1.26.18)\n",
      "Requirement already satisfied: certifi>=2017.4.17 in /home/curie/miniconda3/envs/sdxl_env/lib/python3.11/site-packages (from requests<3,>=2.27->gtts) (2023.7.22)\n",
      "Installing collected packages: click, gtts\n",
      "Successfully installed click-8.1.7 gtts-2.5.1\n",
      "Note: you may need to restart the kernel to use updated packages.\n"
     ]
    }
   ],
   "source": [
    "%pip install gtts"
   ]
  },
  {
   "cell_type": "code",
   "execution_count": 16,
   "metadata": {},
   "outputs": [],
   "source": [
    "from gtts import gTTS\n",
    "\n",
    "# Define the text to convert to speech\n",
    "text = \"Hello, everyone, my name is Bikash, and here is the spectrogram forthe minor 1 exam.\"\n",
    "\n",
    "# Create the gTTS object and specify the language\n",
    "tts = gTTS(text=text, lang='en', tld='com.au')\n",
    "\n",
    "# Save the speech as a wave file\n",
    "output_file = 'audios/tts_minor_1.mp3'\n",
    "tts.save(output_file)\n"
   ]
  },
  {
   "cell_type": "code",
   "execution_count": 17,
   "metadata": {},
   "outputs": [
    {
     "name": "stderr",
     "output_type": "stream",
     "text": [
      "ffmpeg version 4.4.2-0ubuntu0.22.04.1 Copyright (c) 2000-2021 the FFmpeg developers\n",
      "  built with gcc 11 (Ubuntu 11.2.0-19ubuntu1)\n",
      "  configuration: --prefix=/usr --extra-version=0ubuntu0.22.04.1 --toolchain=hardened --libdir=/usr/lib/x86_64-linux-gnu --incdir=/usr/include/x86_64-linux-gnu --arch=amd64 --enable-gpl --disable-stripping --enable-gnutls --enable-ladspa --enable-libaom --enable-libass --enable-libbluray --enable-libbs2b --enable-libcaca --enable-libcdio --enable-libcodec2 --enable-libdav1d --enable-libflite --enable-libfontconfig --enable-libfreetype --enable-libfribidi --enable-libgme --enable-libgsm --enable-libjack --enable-libmp3lame --enable-libmysofa --enable-libopenjpeg --enable-libopenmpt --enable-libopus --enable-libpulse --enable-librabbitmq --enable-librubberband --enable-libshine --enable-libsnappy --enable-libsoxr --enable-libspeex --enable-libsrt --enable-libssh --enable-libtheora --enable-libtwolame --enable-libvidstab --enable-libvorbis --enable-libvpx --enable-libwebp --enable-libx265 --enable-libxml2 --enable-libxvid --enable-libzimg --enable-libzmq --enable-libzvbi --enable-lv2 --enable-omx --enable-openal --enable-opencl --enable-opengl --enable-sdl2 --enable-pocketsphinx --enable-librsvg --enable-libmfx --enable-libdc1394 --enable-libdrm --enable-libiec61883 --enable-chromaprint --enable-frei0r --enable-libx264 --enable-shared\n",
      "  libavutil      56. 70.100 / 56. 70.100\n",
      "  libavcodec     58.134.100 / 58.134.100\n",
      "  libavformat    58. 76.100 / 58. 76.100\n",
      "  libavdevice    58. 13.100 / 58. 13.100\n",
      "  libavfilter     7.110.100 /  7.110.100\n",
      "  libswscale      5.  9.100 /  5.  9.100\n",
      "  libswresample   3.  9.100 /  3.  9.100\n",
      "  libpostproc    55.  9.100 / 55.  9.100\n",
      "[mp3 @ 0x55e41ba28680] Estimating duration from bitrate, this may be inaccurate\n",
      "Input #0, mp3, from 'audios/tts_minor_1.mp3':\n",
      "  Duration: 00:00:07.39, start: 0.000000, bitrate: 32 kb/s\n",
      "  Stream #0:0: Audio: mp3, 24000 Hz, mono, fltp, 32 kb/s\n",
      "Stream mapping:\n",
      "  Stream #0:0 -> #0:0 (mp3 (mp3float) -> pcm_s16le (native))\n",
      "Press [q] to stop, [?] for help\n",
      "Output #0, wav, to 'audios/tts_minor_1.wav':\n",
      "  Metadata:\n",
      "    ISFT            : Lavf58.76.100\n",
      "  Stream #0:0: Audio: pcm_s16le ([1][0][0][0] / 0x0001), 24000 Hz, mono, s16, 384 kb/s\n",
      "    Metadata:\n",
      "      encoder         : Lavc58.134.100 pcm_s16le\n",
      "size=     347kB time=00:00:07.36 bitrate= 385.3kbits/s speed= 534x    \n",
      "video:0kB audio:346kB subtitle:0kB other streams:0kB global headers:0kB muxing overhead: 0.021983%\n"
     ]
    },
    {
     "data": {
      "text/plain": [
       "CompletedProcess(args=['ffmpeg', '-i', 'audios/tts_minor_1.mp3', 'audios/tts_minor_1.wav'], returncode=0)"
      ]
     },
     "execution_count": 17,
     "metadata": {},
     "output_type": "execute_result"
    }
   ],
   "source": [
    "import subprocess\n",
    "\n",
    "# Specify the input and output file paths\n",
    "input_file = 'audios/tts_minor_1.mp3'\n",
    "output_file = 'audios/tts_minor_1.wav'\n",
    "\n",
    "# Run the ffmpeg command to convert the file\n",
    "subprocess.run(['ffmpeg', '-i', input_file, output_file])\n"
   ]
  },
  {
   "cell_type": "code",
   "execution_count": null,
   "metadata": {},
   "outputs": [],
   "source": [
    "# Usage chnage the file path to the file you want to use\n",
    "file_path = 'audios/tts_minor_1.wav'\n",
    "audio, sample_rate = read_audio_from_wav(file_path)\n",
    "\n",
    "n_fft_values = [512, 1024, 2048, 4096]\n",
    "hop_length_values = [256, 512, 1024, 2048]\n",
    "window_values = ['hann', 'hamming', 'blackman', 'bartlett']\n",
    "win_length_values = [256, 512, 1024, 2048]\n",
    "\n",
    "\n",
    "# Create the directory if it doesn't exist\n",
    "save_dir = 'plots/tts'\n",
    "os.makedirs(save_dir, exist_ok=True)\n",
    "\n",
    "for n_fft in n_fft_values:\n",
    "    for hop_length in hop_length_values:\n",
    "        for window in window_values:\n",
    "            for win_length in win_length_values:\n",
    "                if n_fft < win_length:\n",
    "                    continue\n",
    "                \n",
    "                spectrogram = custom_spectrogram(audio, sample_rate, n_fft, hop_length, window, win_length)\n",
    "                spectrogram_db = 10 * np.log10(np.abs(spectrogram) ** 2)\n",
    "                \n",
    "                # Plot the spectrogram\n",
    "                plt.figure()\n",
    "                plt.imshow(spectrogram_db, aspect='auto', origin='lower')\n",
    "                plt.colorbar(format='%+2.0f dB')\n",
    "                \n",
    "                # Save the plot with parameter values in the filename\n",
    "                filename = f'n_fft_{n_fft}_hop_{hop_length}_window_{window}_win_{win_length}.png'\n",
    "                save_path = os.path.join(save_dir, filename)\n",
    "                plt.savefig(save_path)\n",
    "                \n",
    "                plt.show()\n"
   ]
  }
 ],
 "metadata": {
  "kernelspec": {
   "display_name": "sdxl_env",
   "language": "python",
   "name": "python3"
  },
  "language_info": {
   "codemirror_mode": {
    "name": "ipython",
    "version": 3
   },
   "file_extension": ".py",
   "mimetype": "text/x-python",
   "name": "python",
   "nbconvert_exporter": "python",
   "pygments_lexer": "ipython3",
   "version": "3.11.4"
  }
 },
 "nbformat": 4,
 "nbformat_minor": 2
}
